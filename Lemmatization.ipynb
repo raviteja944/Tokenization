{
  "nbformat": 4,
  "nbformat_minor": 0,
  "metadata": {
    "colab": {
      "name": "Lemmatization.ipynb",
      "provenance": [],
      "collapsed_sections": []
    },
    "kernelspec": {
      "name": "python3",
      "display_name": "Python 3"
    },
    "language_info": {
      "name": "python"
    }
  },
  "cells": [
    {
      "cell_type": "code",
      "execution_count": 1,
      "metadata": {
        "id": "VbcLLOTDt6i5"
      },
      "outputs": [],
      "source": [
        "import nltk\n",
        "from nltk.stem import WordNetLemmatizer\n",
        "from nltk.corpus import stopwords"
      ]
    },
    {
      "cell_type": "code",
      "source": [
        "paragraph=\"\"\"Unlike transplantation of other solid organs, vascularized mouse lung transplantation has only recently been developed. In this protocol, we describe a detailed method for performing a vascularized and aerated mouse orthotopic lung transplant, which to date represents the most physiological mouse model of lung transplantation. The procedure is divided into two separate portions consisting of donor harvest followed by implantation using the cuff technique for bronchovascular anastomoses. After a training period spanning several months, the procedure can be successfully mastered and, in experienced hands, requires approximately 90 min to perform. After an initial learning curve, perioperative survival is close to 100%. As the donor hematopoietic cells in the transplanted lung are replaced by those of the host over time, thereby creating a 'chimeric lung,' this model represents a novel research tool for the study of transplantation biology as well as other disease processes, such as malignancies.\"\"\""
      ],
      "metadata": {
        "id": "IGZsWvR1uLKl"
      },
      "execution_count": 2,
      "outputs": []
    },
    {
      "cell_type": "code",
      "source": [
        "paragraph"
      ],
      "metadata": {
        "colab": {
          "base_uri": "https://localhost:8080/",
          "height": 122
        },
        "id": "pTJ6O4a0urKE",
        "outputId": "9ccf300a-89b0-4afa-a751-b9e6e5d724aa"
      },
      "execution_count": 3,
      "outputs": [
        {
          "output_type": "execute_result",
          "data": {
            "application/vnd.google.colaboratory.intrinsic+json": {
              "type": "string"
            },
            "text/plain": [
              "\"Unlike transplantation of other solid organs, vascularized mouse lung transplantation has only recently been developed. In this protocol, we describe a detailed method for performing a vascularized and aerated mouse orthotopic lung transplant, which to date represents the most physiological mouse model of lung transplantation. The procedure is divided into two separate portions consisting of donor harvest followed by implantation using the cuff technique for bronchovascular anastomoses. After a training period spanning several months, the procedure can be successfully mastered and, in experienced hands, requires approximately 90 min to perform. After an initial learning curve, perioperative survival is close to 100%. As the donor hematopoietic cells in the transplanted lung are replaced by those of the host over time, thereby creating a 'chimeric lung,' this model represents a novel research tool for the study of transplantation biology as well as other disease processes, such as malignancies.\""
            ]
          },
          "metadata": {},
          "execution_count": 3
        }
      ]
    },
    {
      "cell_type": "code",
      "source": [
        "nltk.download('punkt')"
      ],
      "metadata": {
        "colab": {
          "base_uri": "https://localhost:8080/"
        },
        "id": "Elj0zpR2u9i3",
        "outputId": "fb6079d2-25b7-4d24-b7c6-ad1b0c973e19"
      },
      "execution_count": 5,
      "outputs": [
        {
          "output_type": "stream",
          "name": "stdout",
          "text": [
            "[nltk_data] Downloading package punkt to /root/nltk_data...\n",
            "[nltk_data]   Unzipping tokenizers/punkt.zip.\n"
          ]
        },
        {
          "output_type": "execute_result",
          "data": {
            "text/plain": [
              "True"
            ]
          },
          "metadata": {},
          "execution_count": 5
        }
      ]
    },
    {
      "cell_type": "code",
      "source": [
        "sentences=nltk.sent_tokenize(paragraph)"
      ],
      "metadata": {
        "id": "k1XvcrwKutgq"
      },
      "execution_count": 6,
      "outputs": []
    },
    {
      "cell_type": "code",
      "source": [
        "sentences"
      ],
      "metadata": {
        "colab": {
          "base_uri": "https://localhost:8080/"
        },
        "id": "gUTSZoiju6-S",
        "outputId": "4f8ee25d-e7a9-474b-8b52-05aabc202754"
      },
      "execution_count": 9,
      "outputs": [
        {
          "output_type": "execute_result",
          "data": {
            "text/plain": [
              "['Unlike transplantation of other solid organs, vascularized mouse lung transplantation has only recently been developed.',\n",
              " 'In this protocol, we describe a detailed method for performing a vascularized and aerated mouse orthotopic lung transplant, which to date represents the most physiological mouse model of lung transplantation.',\n",
              " 'The procedure is divided into two separate portions consisting of donor harvest followed by implantation using the cuff technique for bronchovascular anastomoses.',\n",
              " 'After a training period spanning several months, the procedure can be successfully mastered and, in experienced hands, requires approximately 90 min to perform.',\n",
              " 'After an initial learning curve, perioperative survival is close to 100%.',\n",
              " \"As the donor hematopoietic cells in the transplanted lung are replaced by those of the host over time, thereby creating a 'chimeric lung,' this model represents a novel research tool for the study of transplantation biology as well as other disease processes, such as malignancies.\"]"
            ]
          },
          "metadata": {},
          "execution_count": 9
        }
      ]
    },
    {
      "cell_type": "code",
      "source": [
        "nltk.download('stopwords')\n",
        "nltk.download('wordnet')"
      ],
      "metadata": {
        "colab": {
          "base_uri": "https://localhost:8080/"
        },
        "id": "OmvY0TLjw4Oe",
        "outputId": "805abf11-5c2e-4fbd-d68e-aaac7f23a69f"
      },
      "execution_count": 17,
      "outputs": [
        {
          "output_type": "stream",
          "name": "stdout",
          "text": [
            "[nltk_data] Downloading package stopwords to /root/nltk_data...\n",
            "[nltk_data]   Package stopwords is already up-to-date!\n",
            "[nltk_data] Downloading package wordnet to /root/nltk_data...\n",
            "[nltk_data]   Unzipping corpora/wordnet.zip.\n"
          ]
        },
        {
          "output_type": "execute_result",
          "data": {
            "text/plain": [
              "True"
            ]
          },
          "metadata": {},
          "execution_count": 17
        }
      ]
    },
    {
      "cell_type": "code",
      "source": [
        "lemmatizer=WordNetLemmatizer()"
      ],
      "metadata": {
        "id": "yPvwXk48vCEb"
      },
      "execution_count": 16,
      "outputs": []
    },
    {
      "cell_type": "code",
      "source": [
        "for i in range(len(sentences)):\n",
        "  words=nltk.word_tokenize(sentences[i])\n",
        "  words=[lemmatizer.lemmatize(word) for word in words if word not in set(stopwords.words('english'))]\n",
        "  sentences[i]=' '.join(words)"
      ],
      "metadata": {
        "id": "HfEyBl18wO3A"
      },
      "execution_count": 18,
      "outputs": []
    },
    {
      "cell_type": "code",
      "source": [
        "sentences"
      ],
      "metadata": {
        "colab": {
          "base_uri": "https://localhost:8080/"
        },
        "id": "Mo8aQCKIw1Bs",
        "outputId": "cc0407c4-d5ef-4bc2-88b8-2b4edf4caa6d"
      },
      "execution_count": 19,
      "outputs": [
        {
          "output_type": "execute_result",
          "data": {
            "text/plain": [
              "['Unlike transplantation solid organ , vascularized mouse lung transplantation recently developed .',\n",
              " 'In protocol , describe detailed method performing vascularized aerated mouse orthotopic lung transplant , date represents physiological mouse model lung transplantation .',\n",
              " 'The procedure divided two separate portion consisting donor harvest followed implantation using cuff technique bronchovascular anastomosis .',\n",
              " 'After training period spanning several month , procedure successfully mastered , experienced hand , requires approximately 90 min perform .',\n",
              " 'After initial learning curve , perioperative survival close 100 % .',\n",
              " \"As donor hematopoietic cell transplanted lung replaced host time , thereby creating 'chimeric lung , ' model represents novel research tool study transplantation biology well disease process , malignancy .\"]"
            ]
          },
          "metadata": {},
          "execution_count": 19
        }
      ]
    },
    {
      "cell_type": "code",
      "source": [
        ""
      ],
      "metadata": {
        "id": "gRm9dkQgxU_b"
      },
      "execution_count": null,
      "outputs": []
    }
  ]
}